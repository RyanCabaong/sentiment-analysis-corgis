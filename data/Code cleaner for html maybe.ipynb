{
 "cells": [
  {
   "cell_type": "code",
   "execution_count": null,
   "id": "7683156f",
   "metadata": {},
   "outputs": [],
   "source": [
    "import pandas as pd \n",
    "import re\n"
   ]
  },
  {
   "cell_type": "code",
   "execution_count": null,
   "id": "0e13744a",
   "metadata": {},
   "outputs": [],
   "source": [
    "\n",
    "#review = #insert review paragraph here\n",
    "    \n",
    "#Step 1 remove html stuff\n",
    "TAG_RE = re.compile(r'<[^>]+>')\n",
    "\n",
    "def remove_tags(text):\n",
    "    return TAG_RE.sub('', text)\n",
    "\n",
    "clean1 = remove_tags(review)\n",
    "#print(clean1)\n",
    "    \n",
    "from string import punctuation\n",
    "#Step 2 clean\n",
    "def preprocess_text(text):\n",
    "    text = text.lower()  # Lowercase text\n",
    "    text = re.sub(f\"[{re.escape(punctuation)}]\", \"\", text)  # Remove punctuation\n",
    "    text = \" \".join(text.split())  # Remove extra spaces, tabs, and new lines\n",
    "    text = re.sub(r\"\\b[0-9]+\\b\\s*\", \"\", text) #remove numbers\n",
    "    tokens = text.split()\n",
    "    clean_tokens = [t for t in tokens if len(t) > 1]\n",
    "    text = \" \".join(clean_tokens)\n",
    "    return text\n",
    "clean2 = preprocess_text(clean1)\n",
    "#print(clean2)\n",
    "current_row[\"review\"]=clean2\n",
    "\n",
    "#Step 3 use spacy to tokenize words\n",
    "#nlp = spacy.load(\"en_core_web_sm\")\n",
    "#doc = nlp(clean2)\n",
    "#tokens = [token.text for token in doc]\n",
    "#print(tokens)\n",
    "\n",
    "#df.head()\n",
    "#df.to_csv(r'C:\\users\\ryanc\\OneDrive\\Desktop\\ProjectFolder\\CleanDataOutput2.csv', index=False)"
   ]
  }
 ],
 "metadata": {
  "kernelspec": {
   "display_name": "PythonData",
   "language": "python",
   "name": "pythondata"
  },
  "language_info": {
   "codemirror_mode": {
    "name": "ipython",
    "version": 3
   },
   "file_extension": ".py",
   "mimetype": "text/x-python",
   "name": "python",
   "nbconvert_exporter": "python",
   "pygments_lexer": "ipython3",
   "version": "3.9.7"
  }
 },
 "nbformat": 4,
 "nbformat_minor": 5
}
